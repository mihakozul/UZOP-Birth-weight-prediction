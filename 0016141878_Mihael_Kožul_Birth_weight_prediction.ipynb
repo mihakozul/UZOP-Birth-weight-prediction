{
  "nbformat": 4,
  "nbformat_minor": 0,
  "metadata": {
    "colab": {
      "provenance": [],
      "collapsed_sections": []
    },
    "kernelspec": {
      "name": "python3",
      "display_name": "Python 3"
    },
    "language_info": {
      "name": "python"
    }
  },
  "cells": [
    {
      "cell_type": "markdown",
      "source": [
        "Sveučilište u Zagrebu<br/>\n",
        "Fakultet elektrotehnike i računarstva<br/>\n",
        "\n",
        "#Uvod u znanost o podacima (240719)\n",
        "\n",
        "Diplomski studij računarstva, 1. semestar <br>\n",
        "Akademska školska godina 2022./2023.\n",
        "\n",
        "\n"
      ],
      "metadata": {
        "id": "9WJSnrjv0yn2"
      }
    },
    {
      "cell_type": "markdown",
      "source": [
        "------------------------------\n",
        "# Birth weight prediction of new born baby with application of machine earning techniques on features of mother\n",
        "\n",
        "Autor: Mihael Kožul <br>\n",
        "JMBAG: 0016141878 <br>\n",
        "Mail: mihael.kozul@fer.hr\n",
        "\n",
        "Datum predaje: 2022-11-11\n",
        "\n",
        "Mentorica: Eda Jovičić, *mag. ing.*<br>\n",
        "Mail: eda.jovicic@fer.hr\n",
        "\n",
        "------------------------------"
      ],
      "metadata": {
        "id": "LDINwt503oET"
      }
    },
    {
      "cell_type": "markdown",
      "source": [
        "## Priprema i vizualizacija podataka\n",
        "**Rok predaje: 11.11.2022.**<br>\n",
        "**Broj bodova: /10**\n"
      ],
      "metadata": {
        "id": "MqGIUr681Wz1"
      }
    },
    {
      "cell_type": "markdown",
      "source": [
        "## Replikacija rezultata\n",
        "**Rok predaje: 16.12.2022.**<br>\n",
        "**Broj bodova: /20**\n",
        "\n",
        "*TO DO*"
      ],
      "metadata": {
        "id": "EiFObHZE1w2t"
      }
    },
    {
      "cell_type": "markdown",
      "source": [
        "## Poboljšanje rezultata\n",
        "**Rok predaje: 13.01.2023.**<br>\n",
        "**Broj bodova: /10**\n",
        "\n",
        "*TO DO*"
      ],
      "metadata": {
        "id": "1c2rzv-w1xRt"
      }
    }
  ]
}